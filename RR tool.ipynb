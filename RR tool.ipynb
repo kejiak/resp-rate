{
  "metadata": {
    "language_info": {
      "codemirror_mode": {
        "name": "python",
        "version": 3
      },
      "file_extension": ".py",
      "mimetype": "text/x-python",
      "name": "python",
      "nbconvert_exporter": "python",
      "pygments_lexer": "ipython3",
      "version": "3.8"
    },
    "kernelspec": {
      "name": "python",
      "display_name": "Python (Pyodide)",
      "language": "python"
    },
    "toc-showcode": true
  },
  "nbformat_minor": 4,
  "nbformat": 4,
  "cells": [
    {
      "cell_type": "markdown",
      "source": "Interactive slider",
      "metadata": {}
    },
    {
      "cell_type": "code",
      "source": "try:\n    import piplite\n    await piplite.install(['ipywidgets', 'matplotlib', 'numpy', 'scipy'])\nexcept ImportError:\n    pass\n\nimport numpy as np\nfrom matplotlib import pyplot as plt\nfrom scipy import integrate\n\nimport piplite\nawait piplite.install('ipywidgets')\n\nimport ipywidgets as widgets\nimport IPython.display as ipd\nimport time\nimport asyncio\n\n%matplotlib inline",
      "metadata": {
        "trusted": true
      },
      "execution_count": 1,
      "outputs": []
    },
    {
      "cell_type": "code",
      "source": "def wait(delay):\n    end_time = time.time() + delay\n    while end_time > time.time():\n        continue\n        \ndef SoundNotification(bpm):\n    sr = 22050 # sample rate\n    T = 0.1    # seconds\n    t = np.linspace(0, T, int(T*sr), endpoint=False) # time variable\n    x = 0.5*np.sin(2*np.pi*440*t)              # pure sine wave at 440 Hz\n    ipd.display(ipd.Audio(x, rate=sr, autoplay=True)) # load a NumPy array",
      "metadata": {
        "trusted": true
      },
      "execution_count": 2,
      "outputs": []
    },
    {
      "cell_type": "code",
      "source": "from IPython.display import display\nimport ipywidgets as widgets\n\nt_str2 = widgets.Label(value='Waiting' )\nglobal x\nx = False\n\nimport asyncio\ndef wait_for_change(widget, value):\n    future = asyncio.Future()\n    def getvalue(change):\n        # make the new value available\n        future.set_result(change.new)\n        widget.unobserve(getvalue, value)\n    widget.observe(getvalue, value)\n    return future\n\nfrom ipywidgets import IntSlider\nbutton = widgets.Checkbox(description=\"Click to stop!\")\n\n# Now the key: the container is displayed (while empty) in the main thread\nasync def f():\n    for i in range(10):\n        x = await wait_for_change(button, 'value')\n        t_str2.value='async function continued with value %s'%x\nasyncio.ensure_future(f())\n\nbpm_slider = widgets.IntSlider(value=40,\n                              min=4,\n                              max=40,\n                              step=1,\n                              description='Breaths per minute:',\n                              disabled=False,\n                              continuous_update=False,\n                              orientation='horizontal',\n                              readout=True,\n                              readout_format='d')\n\ndef update_delay(bpm):\n    delay = 60/bpm\n    print(delay)\n    for i in range(0, 4):\n        if x:\n            SoundNotification(delay)\n        print(i)\n    # ipd.display(ipd.Audio('breath_4.mp3', autoplay=True))\n\ndef wait(delay):\n    end_time = time.time() + delay\n    while end_time > time.time():\n        continue\n        \ndisplay(button)\ndisplay(t_str2)\n\nwidgets.interact(update_delay, bpm=14)",
      "metadata": {
        "trusted": true
      },
      "execution_count": 9,
      "outputs": [
        {
          "output_type": "display_data",
          "data": {
            "text/plain": "Checkbox(value=False, description='Click to stop!')",
            "application/vnd.jupyter.widget-view+json": {
              "version_major": 2,
              "version_minor": 0,
              "model_id": "f94cd22dd27540ae9671f70b19c72862"
            }
          },
          "metadata": {}
        },
        {
          "output_type": "display_data",
          "data": {
            "text/plain": "Label(value='Waiting')",
            "application/vnd.jupyter.widget-view+json": {
              "version_major": 2,
              "version_minor": 0,
              "model_id": "5c8597db3b0c4682bd26c0b55c71f5e1"
            }
          },
          "metadata": {}
        },
        {
          "output_type": "display_data",
          "data": {
            "text/plain": "interactive(children=(IntSlider(value=14, description='bpm', max=42, min=-14), Output()), _dom_classes=('widge…",
            "application/vnd.jupyter.widget-view+json": {
              "version_major": 2,
              "version_minor": 0,
              "model_id": "3263a1abe0354f4489aa31c4686acaae"
            }
          },
          "metadata": {}
        },
        {
          "execution_count": 9,
          "output_type": "execute_result",
          "data": {
            "text/plain": "<function __main__.update_delay(bpm)>"
          },
          "metadata": {}
        }
      ]
    },
    {
      "cell_type": "code",
      "source": "print(x)",
      "metadata": {
        "trusted": true
      },
      "execution_count": 8,
      "outputs": [
        {
          "name": "stdout",
          "text": "False\n",
          "output_type": "stream"
        }
      ]
    },
    {
      "cell_type": "code",
      "source": "output = widgets.Output()\nb = widgets.Button(description=\"Click to stop!\")\n\nbpm_slider = widgets.IntSlider(value=14,\n                              min=4,\n                              max=40,\n                              step=1,\n                              description='Breaths per minute:',\n                              disabled=False,\n                              continuous_update=False,\n                              orientation='horizontal',\n                              readout=True,\n                              readout_format='d')\n\ndef update_delay(bpm):\n    delay = 60/bpm\n    print(delay)\n    for i in range(0, 2):\n        SoundNotification(delay)\n        # ipd.display(ipd.Audio('breath_4.mp3', autoplay=True))\n        wait(delay)\n\n# display(b, output)\nwidgets.interact(update_delay, bpm=14)",
      "metadata": {
        "trusted": true
      },
      "execution_count": 11,
      "outputs": [
        {
          "output_type": "display_data",
          "data": {
            "text/plain": "interactive(children=(IntSlider(value=14, description='bpm', max=42, min=-14), Output()), _dom_classes=('widge…",
            "application/vnd.jupyter.widget-view+json": {
              "version_major": 2,
              "version_minor": 0,
              "model_id": "1e9fb1eb41c44b67a7135feb9978ff95"
            }
          },
          "metadata": {}
        },
        {
          "execution_count": 11,
          "output_type": "execute_result",
          "data": {
            "text/plain": "<function __main__.update_delay(bpm)>"
          },
          "metadata": {}
        }
      ]
    },
    {
      "cell_type": "code",
      "source": "output = widgets.Output()\nb = widgets.Button(description=\"Click to stop!\")\n\nbpm_slider = widgets.IntSlider(value=14,\n                              min=4,\n                              max=40,\n                              step=1,\n                              description='Breaths per minute:',\n                              disabled=False,\n                              continuous_update=False,\n                              orientation='horizontal',\n                              readout=True,\n                              readout_format='d')\n\ndef update_delay(bpm):\n    delay = 60/bpm\n    print(delay)\n    for i in range(0, 2):\n        # SoundNotification(delay)\n        ipd.display(ipd.Audio('breath_4.mp3', autoplay=True))\n        wait(delay)\n\n# display(b, output)\nwidgets.interact(update_delay, bpm=14)",
      "metadata": {
        "trusted": true
      },
      "execution_count": 14,
      "outputs": [
        {
          "output_type": "display_data",
          "data": {
            "text/plain": "interactive(children=(IntSlider(value=14, description='bpm', max=42, min=-14), Output()), _dom_classes=('widge…",
            "application/vnd.jupyter.widget-view+json": {
              "version_major": 2,
              "version_minor": 0,
              "model_id": "def703c299c24a699b6bb306c70aeacd"
            }
          },
          "metadata": {}
        },
        {
          "execution_count": 14,
          "output_type": "execute_result",
          "data": {
            "text/plain": "<function __main__.update_delay(bpm)>"
          },
          "metadata": {}
        }
      ]
    },
    {
      "cell_type": "code",
      "source": "from IPython.display import display, clear_output\nimport ipywidgets as widgets\nimport random\n\nb = widgets.Button(\n    description='Show Random',\n    disabled=False,\n    button_style='info',\n    tooltip='Click me',\n    icon='check'\n)\ndisplay(b)\n\nout = widgets.Output()\ndisplay(out)\n\ndef on_button_clicked(b):\n    with out:\n        clear_output()\n        print(\"New hello from each button click!. This hello from {}.\".format(random.choice(list(range(100)))))\n\nb.on_click(on_button_clicked)",
      "metadata": {
        "trusted": true
      },
      "execution_count": 2,
      "outputs": [
        {
          "output_type": "display_data",
          "data": {
            "text/plain": "Button(button_style='info', description='Show Random', icon='check', style=ButtonStyle(), tooltip='Click me')",
            "application/vnd.jupyter.widget-view+json": {
              "version_major": 2,
              "version_minor": 0,
              "model_id": "8bcef910cc314e0aadecd37fa74a1152"
            }
          },
          "metadata": {}
        },
        {
          "output_type": "display_data",
          "data": {
            "text/plain": "Output()",
            "application/vnd.jupyter.widget-view+json": {
              "version_major": 2,
              "version_minor": 0,
              "model_id": "d0e3a6f68171427e85c614c14d64c917"
            }
          },
          "metadata": {}
        }
      ]
    },
    {
      "cell_type": "code",
      "source": "import asyncio\ndef wait_for_change(widget, value):\n    future = asyncio.Future()\n    def getvalue(change):\n        # make the new value available\n        future.set_result(change.new)\n        widget.unobserve(getvalue, value)\n    widget.observe(getvalue, value)\n    return future\n\ndef do_work(t):\n    soundNotification(delay)\n    output.value = f\"{t}: {time.time()}\"\n\nasync def do_loop():\n    t = 0\n    while running.value:\n        do_work(t)\n        t += 1\n        await asyncio.sleep(interval.value)\n\ndef on_running_changed(*change):\n    task = tasks.pop(\"do_loop\", None)\n    output.value = f\"maybe stopping {task}...\"\n    if task:\n        output.value = f\"stopping {task}...\"\n        task.cancel()\n    if running.value:\n        output.value = \"starting...\"\n        tasks[\"do_loop\"] = asyncio.get_event_loop().create_task(do_loop())\nrunning.observe(on_running_changed, \"value\")\n\nui\n    ",
      "metadata": {
        "trusted": true
      },
      "execution_count": 13,
      "outputs": [
        {
          "execution_count": 13,
          "output_type": "execute_result",
          "data": {
            "text/plain": "VBox(children=(HBox(children=(ToggleButton(value=False, description='start', icon='play'), FloatSlider(value=1…",
            "application/vnd.jupyter.widget-view+json": {
              "version_major": 2,
              "version_minor": 0,
              "model_id": "10bc009f4a2f40d2a64a6cdd75589596"
            }
          },
          "metadata": {}
        }
      ]
    },
    {
      "cell_type": "code",
      "source": "from IPython.display import display\nbutton = widgets.Button(description=\"Click Me!\")\noutput = widgets.Output()\n\ndisplay(button, output)\n\ndef on_button_clicked(b):\n    with output:\n        print(\"Button clicked.\")\n\nbutton.on_click(on_button_clicked)",
      "metadata": {
        "trusted": true
      },
      "execution_count": 17,
      "outputs": [
        {
          "output_type": "display_data",
          "data": {
            "text/plain": "Button(description='Click Me!', style=ButtonStyle())",
            "application/vnd.jupyter.widget-view+json": {
              "version_major": 2,
              "version_minor": 0,
              "model_id": "2aa97ce382e8498c80a32d79ce465d7a"
            }
          },
          "metadata": {}
        },
        {
          "output_type": "display_data",
          "data": {
            "text/plain": "Output()",
            "application/vnd.jupyter.widget-view+json": {
              "version_major": 2,
              "version_minor": 0,
              "model_id": "8409f61f7db84731b474248a8d3e3791"
            }
          },
          "metadata": {}
        }
      ]
    },
    {
      "cell_type": "code",
      "source": "import functools\n\nbutton = widgets.Button(description=\"Click Me!\")\noutput = widgets.Output()\n\ndisplay(button)\nrs_=14\nprint(rs_)\ndef fun(rs_):\n    rs_=rs_+3\n    print(rs_)\n    \n   \ndef on_button_clicked(b, rs_=14):\n    with output:\n        fun(rs_)\n\nbutton.on_click(functools.partial(on_button_clicked, rs_=14))",
      "metadata": {
        "trusted": true
      },
      "execution_count": 24,
      "outputs": [
        {
          "output_type": "display_data",
          "data": {
            "text/plain": "Button(description='Click Me!', style=ButtonStyle())",
            "application/vnd.jupyter.widget-view+json": {
              "version_major": 2,
              "version_minor": 0,
              "model_id": "c8bcf196a7dc430b9ad24569d63ad5cc"
            }
          },
          "metadata": {}
        },
        {
          "name": "stdout",
          "text": "14\n",
          "output_type": "stream"
        }
      ]
    },
    {
      "cell_type": "code",
      "source": "caption = widgets.Label(value='The values of slider is : ')\nslider = widgets.IntSlider(min=-5, max=5, value=0, description='Slider')\n\ndef fun(a):\n    print(a)\n\ndef handle_slider_change(change):\n    print(change)\n    fun(change.new)\n\nslider.observe(handle_slider_change, names='value')\n\ndisplay(caption, slider)",
      "metadata": {
        "trusted": true
      },
      "execution_count": 49,
      "outputs": [
        {
          "output_type": "display_data",
          "data": {
            "text/plain": "Label(value='The values of slider is : ')",
            "application/vnd.jupyter.widget-view+json": {
              "version_major": 2,
              "version_minor": 0,
              "model_id": "b3b43756795d451688321c9ac64d9156"
            }
          },
          "metadata": {}
        },
        {
          "output_type": "display_data",
          "data": {
            "text/plain": "IntSlider(value=0, description='Slider', max=5, min=-5)",
            "application/vnd.jupyter.widget-view+json": {
              "version_major": 2,
              "version_minor": 0,
              "model_id": "f3b30b76b10b410ebd134511477faae5"
            }
          },
          "metadata": {}
        }
      ]
    },
    {
      "cell_type": "code",
      "source": "import ipywidgets as widgets\nimport functools\n\nslider = widgets.IntSlider(value=40,\n                              min=4,\n                              max=40,\n                              step=1,\n                              description='Breaths per minute:',\n                              disabled=False,\n                              continuous_update=False,\n                              orientation='horizontal',\n                              readout=True,\n                              readout_format='d')\nb_cs   = widgets.Button( description='Compute Stress' )\nt_str2 = widgets.Label(value='Waiting' )\n\nvb=widgets.VBox([slider,b_cs,t_str2])\noutput = widgets.Output()\noutput2 = widgets.Output()\n\ndef on_value_change(change):\n    with output2:\n        print(change['new'])\n\nslider.observe(on_value_change, names='value')\n\ndef fun(a):\n    with output:\n        print(a)\n\ndef on_click(b, a=14):\n    fun(a)\n\nb_cs.on_click(on_click_compute_stress)\n\ndisplay(vb)",
      "metadata": {
        "trusted": true
      },
      "execution_count": 33,
      "outputs": [
        {
          "output_type": "display_data",
          "data": {
            "text/plain": "VBox(children=(IntSlider(value=40, continuous_update=False, description='Breaths per minute:', max=40, min=4),…",
            "application/vnd.jupyter.widget-view+json": {
              "version_major": 2,
              "version_minor": 0,
              "model_id": "4421ea2b3fbf4de3b86fea02182cb956"
            }
          },
          "metadata": {}
        }
      ]
    },
    {
      "cell_type": "code",
      "source": "import ipywidgets as widgets\nimport functools\n\nslider = widgets.IntSlider(value=40,\n                              min=4,\n                              max=40,\n                              step=1,\n                              description='Breaths per minute:',\n                              disabled=False,\n                              continuous_update=False,\n                              orientation='horizontal',\n                              readout=True,\n                              readout_format='d')\nb_cs   = widgets.Button( description='Compute Stress' )\nt_str2 = widgets.Label(value='Waiting' )\n\nvb=widgets.VBox([slider,b_cs,t_str2])\noutput2 = widgets.Output()\n\ndef on_value_change(change):\n    with output2:\n        print(change['new'])\n\nslider.observe(on_value_change, names='value')\n\ndef wait(delay):\n    end_time = time.time() + delay\n    while end_time > time.time():\n        continue\n        \ndef SoundNotification(bpm):\n    sr = 22050 # sample rate\n    T = 0.1    # seconds\n    t = np.linspace(0, T, int(T*sr), endpoint=False) # time variable\n    x = 0.5*np.sin(2*np.pi*440*t)              # pure sine wave at 440 Hz\n    for i in range(0,2):\n        pause = 60/bpm\n        sound = ipd.display(ipd.Audio(x, rate=sr, autoplay=True)) # load a NumPy array\n        wait(pause)\n\ndef on_click_compute_stress(b, rs_=40):\n    t_str2.value='Breaths per minutes = '+str(slider.value)\n    SoundNotification(rs_)\n\nb_cs.on_click(on_click_compute_stress(slider.value))\n\ndisplay(vb)",
      "metadata": {
        "trusted": true
      },
      "execution_count": 38,
      "outputs": [
        {
          "output_type": "display_data",
          "data": {
            "text/plain": "<IPython.lib.display.Audio object>",
            "text/html": "\n                <audio  controls=\"controls\" autoplay=\"autoplay\">\n                    <source src=\"data:audio/wav;base64,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\" type=\"audio/wav\" />\n                    Your browser does not support the audio element.\n                </audio>\n              "
          },
          "metadata": {}
        },
        {
          "ename": "<class 'AttributeError'>",
          "evalue": "'NoneType' object has no attribute 'close'",
          "traceback": [
            "\u001b[0;31m---------------------------------------------------------------------------\u001b[0m",
            "\u001b[0;31mAttributeError\u001b[0m                            Traceback (most recent call last)",
            "Cell \u001b[0;32mIn [40], line 47\u001b[0m\n\u001b[1;32m     44\u001b[0m     sound \u001b[38;5;241m=\u001b[39m SoundNotification(rs_)\n\u001b[1;32m     45\u001b[0m     sound\u001b[38;5;241m.\u001b[39mclose()\n\u001b[0;32m---> 47\u001b[0m b_cs\u001b[38;5;241m.\u001b[39mon_click(\u001b[43mon_click_compute_stress\u001b[49m\u001b[43m(\u001b[49m\u001b[43mslider\u001b[49m\u001b[38;5;241;43m.\u001b[39;49m\u001b[43mvalue\u001b[49m\u001b[43m)\u001b[49m)\n\u001b[1;32m     49\u001b[0m display(vb)\n",
            "Cell \u001b[0;32mIn [40], line 45\u001b[0m, in \u001b[0;36mon_click_compute_stress\u001b[0;34m(b, rs_)\u001b[0m\n\u001b[1;32m     43\u001b[0m t_str2\u001b[38;5;241m.\u001b[39mvalue\u001b[38;5;241m=\u001b[39m\u001b[38;5;124m'\u001b[39m\u001b[38;5;124mBreaths per minutes = \u001b[39m\u001b[38;5;124m'\u001b[39m\u001b[38;5;241m+\u001b[39m\u001b[38;5;28mstr\u001b[39m(slider\u001b[38;5;241m.\u001b[39mvalue)\n\u001b[1;32m     44\u001b[0m sound \u001b[38;5;241m=\u001b[39m SoundNotification(rs_)\n\u001b[0;32m---> 45\u001b[0m \u001b[43msound\u001b[49m\u001b[38;5;241;43m.\u001b[39;49m\u001b[43mclose\u001b[49m()\n",
            "\u001b[0;31mAttributeError\u001b[0m: 'NoneType' object has no attribute 'close'"
          ],
          "output_type": "error"
        }
      ]
    },
    {
      "cell_type": "code",
      "source": "# monitor function, reporting both the changed value and all other values\ndef handle_slider_change(change):\n    values = alpha.value\n    caption.value = (f'The slider {change.owner.description} has a value of {change.new}. ')\n    new_alpha =alpha.value\n\n# create slider\nalpha = widgets.IntSlider(value=40,\n                              min=4,\n                              max=40,\n                              step=1,\n                              description='Breaths per minute:',\n                              disabled=False,\n                              continuous_update=False,\n                              orientation='horizontal',\n                              readout=True,\n                              readout_format='d')\n# register slides\nalpha.observe(handle_slider_change, names='value')\n    \n# display ui\ncaption = widgets.Label(value='No change was made yet.')\ndisplay(caption, alpha)\n\ndef wait(delay):\n    end_time = time.time() + delay\n    while end_time > time.time():\n        continue\n        \nbpm = alpha.value\nstop = False\n\nsr = 22050 # sample rate\nT = 0.1    # seconds\nt = np.linspace(0, T, int(T*sr), endpoint=False) # time variable\nx = 0.5*np.sin(2*np.pi*440*t)              # pure sine wave at 440 Hz\nfor i in range(0,2):\n    pause = 60/alpha.value\n    sound = ipd.display(ipd.Audio(x, rate=sr, autoplay=True)) # load a NumPy array\n    wait(pause)\n\ndef SoundNotification(bpm):\n    sr = 22050 # sample rate\n    T = 0.1    # seconds\n    t = np.linspace(0, T, int(T*sr), endpoint=False) # time variable\n    x = 0.5*np.sin(2*np.pi*440*t)              # pure sine wave at 440 Hz\n    for i in range(0,4):\n        pause = 60/bpm\n        sound = ipd.display(ipd.Audio(x, rate=sr, autoplay=True)) # load a NumPy array\n        wait(pause)\n    return sound\n\nbutton = widgets.Button(description='Press to stop')\ndisplay(button)\n\ndef on_button_clicked(b):\n    stop = True\n\nbutton.on_click(on_button_clicked)\n# print(bpm)\n# sound_= SoundNotification(alpha.value)\n# print(bpm)\n# sound_= SoundNotification(alpha.value)\n# ipd.Audio(sound, rate=sr,autoplay=True)",
      "metadata": {
        "trusted": true
      },
      "execution_count": 91,
      "outputs": [
        {
          "output_type": "display_data",
          "data": {
            "text/plain": "Label(value='No change was made yet.')",
            "application/vnd.jupyter.widget-view+json": {
              "version_major": 2,
              "version_minor": 0,
              "model_id": "9f5b77c9f758496089d9a6414eb1ce3d"
            }
          },
          "metadata": {}
        },
        {
          "output_type": "display_data",
          "data": {
            "text/plain": "IntSlider(value=40, continuous_update=False, description='Breaths per minute:', max=40, min=4)",
            "application/vnd.jupyter.widget-view+json": {
              "version_major": 2,
              "version_minor": 0,
              "model_id": "dd357368535449ec95d88b91f2387440"
            }
          },
          "metadata": {}
        },
        {
          "output_type": "display_data",
          "data": {
            "text/plain": "<IPython.lib.display.Audio object>",
            "text/html": "\n                <audio  controls=\"controls\" autoplay=\"autoplay\">\n                    <source src=\"data:audio/wav;base64,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\" type=\"audio/wav\" />\n                    Your browser does not support the audio element.\n                </audio>\n              "
          },
          "metadata": {}
        },
        {
          "output_type": "display_data",
          "data": {
            "text/plain": "<IPython.lib.display.Audio object>",
            "text/html": "\n                <audio  controls=\"controls\" autoplay=\"autoplay\">\n                    <source src=\"data:audio/wav;base64,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\" type=\"audio/wav\" />\n                    Your browser does not support the audio element.\n                </audio>\n              "
          },
          "metadata": {}
        },
        {
          "output_type": "display_data",
          "data": {
            "text/plain": "Button(description='Press to stop', style=ButtonStyle())",
            "application/vnd.jupyter.widget-view+json": {
              "version_major": 2,
              "version_minor": 0,
              "model_id": "5742f0677300498a96223a8a401866c1"
            }
          },
          "metadata": {}
        }
      ]
    },
    {
      "cell_type": "code",
      "source": "print(f'Breaths per minute:{alpha.value}')\nsound_= SoundNotification(alpha.value)",
      "metadata": {
        "trusted": true
      },
      "execution_count": 67,
      "outputs": [
        {
          "name": "stdout",
          "text": "Breaths per minute:26\n",
          "output_type": "stream"
        },
        {
          "output_type": "display_data",
          "data": {
            "text/plain": "<IPython.lib.display.Audio object>",
            "text/html": "\n                <audio  controls=\"controls\" autoplay=\"autoplay\">\n                    <source src=\"data:audio/wav;base64,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\" type=\"audio/wav\" />\n                    Your browser does not support the audio element.\n                </audio>\n              "
          },
          "metadata": {}
        },
        {
          "output_type": "display_data",
          "data": {
            "text/plain": "<IPython.lib.display.Audio object>",
            "text/html": "\n                <audio  controls=\"controls\" autoplay=\"autoplay\">\n                    <source src=\"data:audio/wav;base64,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\" type=\"audio/wav\" />\n                    Your browser does not support the audio element.\n                </audio>\n              "
          },
          "metadata": {}
        }
      ]
    },
    {
      "cell_type": "code",
      "source": "# monitor function, reporting both the changed value and all other values\ndef handle_slider_change(change):\n    values = alpha.value\n    caption.value = (\n        f'The slider {change.owner.description} has a value of {change.new}. '\n    )\n    bpm=change.new\n    \n# create slider\nalpha = widgets.IntSlider(value=12,\n                              min=4,\n                              max=40,\n                              step=1,\n                              description='Breaths per minute:',\n                              disabled=False,\n                              continuous_update=False,\n                              orientation='horizontal',\n                              readout=True,\n                              readout_format='d')\n# register slides\nalpha.observe(handle_slider_change, names='value')\npause = 60/bpm\ndef wait(delay):\n    end_time = time.time() + delay\n    while end_time > time.time():\n        continue\n    \n# display ui\ncaption = widgets.Label(value='No change was made yet.')\ndisplay(caption, alpha)\n\nprint(bpm)\n\n\n\n",
      "metadata": {
        "trusted": true
      },
      "execution_count": 38,
      "outputs": [
        {
          "output_type": "display_data",
          "data": {
            "text/plain": "Label(value='No change was made yet.')",
            "application/vnd.jupyter.widget-view+json": {
              "version_major": 2,
              "version_minor": 0,
              "model_id": "e8d10028cd2e466e9bcf3883425c6ace"
            }
          },
          "metadata": {}
        },
        {
          "output_type": "display_data",
          "data": {
            "text/plain": "IntSlider(value=12, continuous_update=False, description='Breaths per minute:', max=40, min=4)",
            "application/vnd.jupyter.widget-view+json": {
              "version_major": 2,
              "version_minor": 0,
              "model_id": "a5c8d095bc83447687abb29e973b8051"
            }
          },
          "metadata": {}
        },
        {
          "name": "stdout",
          "text": "14\n",
          "output_type": "stream"
        }
      ]
    },
    {
      "cell_type": "code",
      "source": "caption = widgets.Label(value='Changes in source_range values are reflected in target_range1')\nsource_range, target_range1 = widgets.IntSlider(description='Source range'),\\\n                              widgets.IntSlider(description='Target range 1')\ndl = widgets.jsdlink((source_range, 'value'), (target_range1, 'value'))\ndisplay(caption, source_range, target_range1)",
      "metadata": {
        "trusted": true
      },
      "execution_count": 46,
      "outputs": [
        {
          "output_type": "display_data",
          "data": {
            "text/plain": "Label(value='Changes in source_range values are reflected in target_range1')",
            "application/vnd.jupyter.widget-view+json": {
              "version_major": 2,
              "version_minor": 0,
              "model_id": "1271c731d0544e948082441ca697006a"
            }
          },
          "metadata": {}
        },
        {
          "output_type": "display_data",
          "data": {
            "text/plain": "IntSlider(value=0, description='Source range')",
            "application/vnd.jupyter.widget-view+json": {
              "version_major": 2,
              "version_minor": 0,
              "model_id": "13ed51a0103c4a0993b712d1aa84f9d6"
            }
          },
          "metadata": {}
        },
        {
          "output_type": "display_data",
          "data": {
            "text/plain": "IntSlider(value=0, description='Target range 1')",
            "application/vnd.jupyter.widget-view+json": {
              "version_major": 2,
              "version_minor": 0,
              "model_id": "56c6c76a2d4c49c88df38e105b7976ea"
            }
          },
          "metadata": {}
        }
      ]
    },
    {
      "cell_type": "code",
      "source": "print(target_range1.value)",
      "metadata": {
        "trusted": true
      },
      "execution_count": 48,
      "outputs": [
        {
          "name": "stdout",
          "text": "27\n",
          "output_type": "stream"
        }
      ]
    },
    {
      "cell_type": "code",
      "source": "",
      "metadata": {},
      "execution_count": null,
      "outputs": []
    }
  ]
}